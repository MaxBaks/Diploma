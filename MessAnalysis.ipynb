{
 "cells": [
  {
   "cell_type": "code",
   "execution_count": 1,
   "metadata": {},
   "outputs": [],
   "source": [
    "from string import digits \n",
    "import re\n",
    "import pandas as pd\n",
    "import pyodbc\n",
    "\n",
    "from sklearn.feature_extraction.text import CountVectorizer\n",
    "from sklearn.linear_model import LogisticRegression\n",
    "from sklearn.model_selection import train_test_split\n",
    "\n",
    "from nltk.stem.snowball import SnowballStemmer\n",
    "stemmer = SnowballStemmer(\"russian\")"
   ]
  },
  {
   "cell_type": "code",
   "execution_count": 2,
   "metadata": {},
   "outputs": [],
   "source": [
    "cnxn = pyodbc.connect('DRIVER={Oracle in OraClient11g_home1};')"
   ]
  },
  {
   "cell_type": "code",
   "execution_count": 3,
   "metadata": {},
   "outputs": [],
   "source": [
    "def stemText(m1text):\n",
    "    text = list(filter(None, re.split('\\s|,|:|;|-', m1text)))\n",
    "    nonDots = map(lambda each:each.replace(\".\", '').replace(\"(\", '').replace(\")\", '').replace(\"№\", ''), text)\n",
    "    nonNums = map(lambda c: re.sub(r'\\d+', '', c), nonDots) \n",
    "    \n",
    "    l=[stemmer.stem(word) for word in nonNums]\n",
    "    finalWords = list(filter(lambda c: len(c) > 2, l))\n",
    "    return list(set(finalWords))"
   ]
  },
  {
   "cell_type": "code",
   "execution_count": null,
   "metadata": {},
   "outputs": [],
   "source": [
    "def runModel(m1data, m3):\n",
    "    if len(m1data.index) != 0:\n",
    "        m1data.dropna(subset=['LONGTEXT'], inplace=True)\n",
    "        m1data[\"stems\"] = m1data.apply(lambda x: stemText(x[1]), axis = 1)\n",
    "\n",
    "        noMsausCount = m1data[m1data[\"MSAUS\"] == 0].count()\n",
    "        MsausCount = m1data[m1data[\"MSAUS\"] == 1].count()\n",
    "        \n",
    "        if (noMsausCount.QMNUMQ < 4 or MsausCount.QMNUMQ < 4):\n",
    "            cursor = cnxn.cursor()\n",
    "            cursor.execute(\"insert into sm_mess_analysis_res (qmnumq, decision, m1s, score) values (?, ?, ?, ?);\", [qm, -1.0, -1.0, 0.0])\n",
    "            cnxn.commit()\n",
    "        else:\n",
    "            noMsausData = m1data[m1data[\"MSAUS\"] == 0].head(min(noMsausCount.QMNUMQ, MsausCount.QMNUMQ))\n",
    "            MsausData = m1data[m1data[\"MSAUS\"] == 1].head(min(noMsausCount.QMNUMQ, MsausCount.QMNUMQ))\n",
    "\n",
    "            m1data = pd.concat([noMsausData, MsausData])\n",
    "\n",
    "            m1sentences = m1data[\"stems\"].apply(' '.join)\n",
    "\n",
    "            vectorizer = CountVectorizer(min_df=0.1, max_df=0.85, lowercase=False)\n",
    "            vectorizer.fit(m1sentences)\n",
    "            vectorizer.transform(m1sentences)\n",
    "\n",
    "            y = m1data['MSAUS'].values\n",
    "\n",
    "            sentences_train, sentences_test, y_train, y_test = train_test_split(m1sentences, y, test_size=0.2, random_state=1000)\n",
    "            \n",
    "            vectorizer.fit(sentences_train)\n",
    "\n",
    "            X_train = vectorizer.transform(sentences_train)\n",
    "            X_test  = vectorizer.transform(sentences_test)\n",
    "\n",
    "            classifier = LogisticRegression()\n",
    "\n",
    "            model = classifier.fit(X_train, y_train)\n",
    "            score = round(model.score(X_test, y_test), 4)\n",
    "\n",
    "            result = model.predict(vectorizer.transform([longtext]))\n",
    "\n",
    "            cursor = cnxn.cursor()\n",
    "            cursor.execute(\"insert into sm_mess_analysis_res (qmnumq, decision, m1s, score) values (?, ?, ?, ?);\", [m3, result[0], float(y.size), score])\n",
    "            cnxn.commit()\n",
    "    else:\n",
    "        cursor = cnxn.cursor()\n",
    "        cursor.execute(\"insert into sm_mess_analysis_res (qmnumq, decision, m1s, score) values (?, ?, ?, ?);\", [m3, -1.0, 0.0, 0.0])\n",
    "        cnxn.commit()"
   ]
  },
  {
   "cell_type": "code",
   "execution_count": null,
   "metadata": {},
   "outputs": [
    {
     "name": "stderr",
     "output_type": "stream",
     "text": [
      "C:\\Users\\ma.mishutushkin\\AppData\\Local\\Continuum\\anaconda3\\lib\\site-packages\\sklearn\\linear_model\\logistic.py:433: FutureWarning: Default solver will be changed to 'lbfgs' in 0.22. Specify a solver to silence this warning.\n",
      "  FutureWarning)\n"
     ]
    }
   ],
   "source": [
    "m3s = pd.read_sql_query(\"\"\"select d.qmnumq from d_m_in d\n",
    "                           inner join vso_iflo vi on vi.tplnrq = d.tplnrq\n",
    "                           where d.qmart = 'M3'\n",
    "                            and d.ausvn > sysdate - 2\n",
    "                            and d.longtext is not null\n",
    "                            and length(d.longtext) > 15\n",
    "                            and d.qmnumq not in (select qmnumq from sm_mess_analysis_res)\n",
    "                            and d.ausbs is null\n",
    "                            and vi.rktgtplnrq is not null\n",
    "                           \"\"\", cnxn)\n",
    "\n",
    "for index, row in m3s.iterrows():\n",
    "    m3data = pd.read_sql_query(\"\"\"select v.qmnumq, v.headktxt, d.longtext, vipar.tplmaq as tplnrq \n",
    "                              from vso_viqmel v\n",
    "                              inner join d_m_in d on d.qmnumq = v.qmnumq \n",
    "                              inner join vso_iflo vi on vi.tplnrq = v.tplnrq\n",
    "                              inner join vso_iflo vipar on vipar.tplnrq = vi.tplmaq\n",
    "                              where v.qmnumq = ?\n",
    "                           \"\"\", cnxn, params=[row['QMNUMQ']])\n",
    "\n",
    "    tp = m3data.iloc[0]['TPLNRQ']\n",
    "    qm = m3data.iloc[0]['QMNUMQ']\n",
    "    longtext = ' '.join(stemText(m3data.iloc[0]['LONGTEXT']))\n",
    "\n",
    "    sql = \"\"\"SELECT d.qmnumq, d.longtext, case when substr(v.qmgrp, -1) = '6' \n",
    "                                      then 1 else 0 end as msaus\n",
    "                  FROM VSO_VIQMEL v\n",
    "                      INNER JOIN D_M_IN d ON v.qmnumq = d.qmnumq\n",
    "                  WHERE v.qmart = 'M1' \n",
    "                  AND length(d.longtext) > 15\n",
    "                  AND lower(d.longtext) NOT LIKE '%разбор%в%сообщении%'\n",
    "                  AND lower(d.longtext) NOT LIKE '%разбор%произведен%'\n",
    "                  AND v.tplnrq IN (\n",
    "                      SELECT tplnrq FROM VSO_IFLO\n",
    "                      START with tplnrq = ? \n",
    "                      CONNECT BY PRIOR tplnrq = tplmaq\n",
    "                  )\n",
    "       \"\"\"\n",
    "\n",
    "    m1s = pd.read_sql(sql, cnxn, params=[tp])\n",
    "    runModel(m1s, qm)"
   ]
  },
  {
   "cell_type": "code",
   "execution_count": null,
   "metadata": {},
   "outputs": [],
   "source": [
    "\n",
    "\n"
   ]
  }
 ],
 "metadata": {
  "kernelspec": {
   "display_name": "Python 3",
   "language": "python",
   "name": "python3"
  },
  "language_info": {
   "codemirror_mode": {
    "name": "ipython",
    "version": 3
   },
   "file_extension": ".py",
   "mimetype": "text/x-python",
   "name": "python",
   "nbconvert_exporter": "python",
   "pygments_lexer": "ipython3",
   "version": "3.7.3"
  }
 },
 "nbformat": 4,
 "nbformat_minor": 2
}
